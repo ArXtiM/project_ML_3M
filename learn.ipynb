{
 "cells": [
  {
   "cell_type": "code",
   "execution_count": 1,
   "metadata": {},
   "outputs": [],
   "source": [
    "import pandas"
   ]
  },
  {
   "cell_type": "code",
   "execution_count": 2,
   "metadata": {},
   "outputs": [
    {
     "name": "stderr",
     "output_type": "stream",
     "text": [
      "C:\\Users\\artem\\AppData\\Local\\Temp\\ipykernel_3368\\2535122673.py:1: DtypeWarning: Columns (51,52,53,54,55,56,57,58,59,60,61,62,63,64,65,66,87,88,89,90,91,92,93,94,95,96,97,98,99,100,101,102,131,132,133,135,136,139,140,141,142,143,144,145,146,147,148,149,151,152,155,156,157,158,159,160,161,163,164,165,167,168,169,171,172,173,174,175,176,177,178,183,184,185,186,187,188,189,190,191,192,193,194,195,196,197,198,203,204,205,206,207,208,209,210,211,212,213,214,215,216,217,218,223,224,227,239,240,241,242,243,244,245,246,459,460,461,467,468,469,515,516,523,524,531,532,539,540,547,548,555,556,563,564,565,567,571,572,573,575,579,580,581,582,583,587,588,595,596,603,604,611,612,613,615,795,796,797,799,1031,1032,1033,1034,1035,1036,1037,1039,1040,1041,1042,1043,1044,1045,1047,1048,1049,1050,1051,1052,1055,1056,1057,1058,1059,1060,1063,1064,1065,1067,1068,1069,1072,1073,1074,1075,1076,1077,1078,1172,1173,1174,1176,1177,1178,1179,1180,1181,1182,1275,1276,1277,1278,1279,1280,1281,1282,1447,1448,1449,1450,1451,1452,1453,1454,1649,1650,1651,1652,1653,1654,1655,1656,2193,2194,2195,2196,2199) have mixed types. Specify dtype option on import or set low_memory=False.\n",
      "  data_train = pandas.read_csv('train.csv')\n",
      "C:\\Users\\artem\\AppData\\Local\\Temp\\ipykernel_3368\\2535122673.py:2: DtypeWarning: Columns (51,52,53,54,55,56,57,58,59,60,61,62,63,64,65,66,87,88,89,91,95,96,97,99,131,132,133,135,136,140,141,142,144,145,146,147,148,151,152,155,156,157,158,159,160,161,163,164,165,167,168,169,172,173,174,175,176,177,178,183,184,185,186,187,188,189,190,191,192,193,194,195,196,197,198,203,204,207,208,211,212,213,215,216,239,240,241,243,244,245,459,467,563,567,571,575,579,580,583,611,612,795,799,1031,1032,1033,1034,1035,1036,1037,1039,1040,1047,1055,1063,1064,1071,1072,1073,1074,1175,1176,1177,1178,1179,1180,1181,1182,1277,1278,1281,1282,1447,1448,1449,1450,1451,1452,1453,1454,1653,1654,1656,2193,2194,2195,2196,2199) have mixed types. Specify dtype option on import or set low_memory=False.\n",
      "  data_valid = pandas.read_csv('valid.csv')\n"
     ]
    }
   ],
   "source": [
    "data_train = pandas.read_csv('train.csv')\n",
    "data_valid = pandas.read_csv('valid.csv')"
   ]
  },
  {
   "cell_type": "code",
   "execution_count": 4,
   "metadata": {},
   "outputs": [
    {
     "name": "stdout",
     "output_type": "stream",
     "text": [
      "Числовые колонки: 2319\n",
      "Категориальные колонки: 347\n",
      "Булевые колонки: 0\n"
     ]
    }
   ],
   "source": [
    "numeric_columns = data_train.select_dtypes(include=['int64', 'float64']).columns\n",
    "categorical_columns = data_train.select_dtypes(include=['object']).columns\n",
    "boolean_columns = data_train.select_dtypes(include=['bool']).columns\n",
    "\n",
    "print(f\"Числовые колонки: {len(numeric_columns)}\")\n",
    "print(f\"Категориальные колонки: {len(categorical_columns)}\")\n",
    "print(f\"Булевые колонки: {len(boolean_columns)}\")\n"
   ]
  },
  {
   "cell_type": "code",
   "execution_count": 24,
   "metadata": {},
   "outputs": [
    {
     "name": "stdout",
     "output_type": "stream",
     "text": [
      "До удаления: 2666 колонок\n",
      "После удаления: 114 колонок\n"
     ]
    }
   ],
   "source": [
    "# Удаление колонок, где все значения NaN\n",
    "data_cleaned = data_train.dropna(axis=1, how='all')\n",
    "data_cleaned = data_cleaned.loc[:, ((data_cleaned == 0) | (data_cleaned.isnull())).mean() < 0.7]\n",
    "data_cleaned = data_cleaned.drop_duplicates()\n",
    "\n",
    "\n",
    "# Сравнение до и после удаления\n",
    "print(f\"До удаления: {data_train.shape[1]} колонок\")\n",
    "print(f\"После удаления: {data_cleaned.shape[1]} колонок\")"
   ]
  },
  {
   "cell_type": "code",
   "execution_count": 25,
   "metadata": {},
   "outputs": [],
   "source": [
    "data_cleaned.to_csv('cleaned_train.csv', index=False)"
   ]
  }
 ],
 "metadata": {
  "kernelspec": {
   "display_name": ".venv",
   "language": "python",
   "name": "python3"
  },
  "language_info": {
   "codemirror_mode": {
    "name": "ipython",
    "version": 3
   },
   "file_extension": ".py",
   "mimetype": "text/x-python",
   "name": "python",
   "nbconvert_exporter": "python",
   "pygments_lexer": "ipython3",
   "version": "3.12.4"
  }
 },
 "nbformat": 4,
 "nbformat_minor": 2
}
